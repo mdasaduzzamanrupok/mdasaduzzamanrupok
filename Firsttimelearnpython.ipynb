{
  "nbformat": 4,
  "nbformat_minor": 0,
  "metadata": {
    "colab": {
      "provenance": [],
      "authorship_tag": "ABX9TyNiishD0FM4cCen8oWLh5jL",
      "include_colab_link": true
    },
    "kernelspec": {
      "name": "python3",
      "display_name": "Python 3"
    },
    "language_info": {
      "name": "python"
    }
  },
  "cells": [
    {
      "cell_type": "markdown",
      "metadata": {
        "id": "view-in-github",
        "colab_type": "text"
      },
      "source": [
        "<a href=\"https://colab.research.google.com/github/mdasaduzzamanrupok/mdasaduzzamanrupok/blob/main/Firsttimelearnpython.ipynb\" target=\"_parent\"><img src=\"https://colab.research.google.com/assets/colab-badge.svg\" alt=\"Open In Colab\"/></a>"
      ]
    },
    {
      "cell_type": "markdown",
      "source": [
        "Use print function \n"
      ],
      "metadata": {
        "id": "e45ilCAvdrB0"
      }
    },
    {
      "cell_type": "code",
      "source": [
        "print('Hello World', 'Welcome To Python', sep= ' & ', end=' | ')"
      ],
      "metadata": {
        "id": "2DkgdUlPJW4E",
        "colab": {
          "base_uri": "https://localhost:8080/"
        },
        "outputId": "baace489-f1fc-4b6a-eee7-d870183855f5"
      },
      "execution_count": 17,
      "outputs": [
        {
          "output_type": "stream",
          "name": "stdout",
          "text": [
            "Hello World & Welcome To Python | "
          ]
        }
      ]
    },
    {
      "cell_type": "markdown",
      "source": [
        "Use Variable"
      ],
      "metadata": {
        "id": "Ef-GRicafiS4"
      }
    },
    {
      "cell_type": "code",
      "source": [
        "var='Hello Dhaka'\n",
        "print(var)\n",
        "\n",
        "print('My sentence is '+var)"
      ],
      "metadata": {
        "colab": {
          "base_uri": "https://localhost:8080/"
        },
        "id": "wV5u3CPkZlGL",
        "outputId": "5624242d-c39b-4555-91d9-3c2d45d09d16"
      },
      "execution_count": 22,
      "outputs": [
        {
          "output_type": "stream",
          "name": "stdout",
          "text": [
            "Hello Dhaka\n",
            "My sentence is Hello Dhaka\n"
          ]
        }
      ]
    },
    {
      "cell_type": "markdown",
      "source": [
        "Check Memory Storege Id number"
      ],
      "metadata": {
        "id": "XPFMtPi6f0je"
      }
    },
    {
      "cell_type": "code",
      "source": [
        "id(var)"
      ],
      "metadata": {
        "colab": {
          "base_uri": "https://localhost:8080/"
        },
        "id": "BjYRn5gdbiFI",
        "outputId": "ecd728b0-006f-4bb2-aa2e-64554812652d"
      },
      "execution_count": 23,
      "outputs": [
        {
          "output_type": "execute_result",
          "data": {
            "text/plain": [
              "140207442717104"
            ]
          },
          "metadata": {},
          "execution_count": 23
        }
      ]
    },
    {
      "cell_type": "markdown",
      "source": [
        "Ceck Memory Bytes"
      ],
      "metadata": {
        "id": "0ccpuvzuf-WW"
      }
    },
    {
      "cell_type": "code",
      "source": [
        "import sys\n",
        "sys.getsizeof(var)"
      ],
      "metadata": {
        "colab": {
          "base_uri": "https://localhost:8080/"
        },
        "id": "wgpJf9IhcaxE",
        "outputId": "da0d10ee-874e-42c5-afac-ad2619e6530f"
      },
      "execution_count": 24,
      "outputs": [
        {
          "output_type": "execute_result",
          "data": {
            "text/plain": [
              "60"
            ]
          },
          "metadata": {},
          "execution_count": 24
        }
      ]
    }
  ]
}