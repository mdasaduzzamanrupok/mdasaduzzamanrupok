{
  "nbformat": 4,
  "nbformat_minor": 0,
  "metadata": {
    "colab": {
      "provenance": [],
      "authorship_tag": "ABX9TyNAKzlTZlky7mQ51vAoh8SC",
      "include_colab_link": true
    },
    "kernelspec": {
      "name": "python3",
      "display_name": "Python 3"
    },
    "language_info": {
      "name": "python"
    }
  },
  "cells": [
    {
      "cell_type": "markdown",
      "metadata": {
        "id": "view-in-github",
        "colab_type": "text"
      },
      "source": [
        "<a href=\"https://colab.research.google.com/github/mdasaduzzamanrupok/mdasaduzzamanrupok/blob/main/Python_Zip.ipynb\" target=\"_parent\"><img src=\"https://colab.research.google.com/assets/colab-badge.svg\" alt=\"Open In Colab\"/></a>"
      ]
    },
    {
      "cell_type": "markdown",
      "source": [
        "#zip() in Python "
      ],
      "metadata": {
        "id": "dR32F19Oioi5"
      }
    },
    {
      "cell_type": "code",
      "execution_count": null,
      "metadata": {
        "colab": {
          "base_uri": "https://localhost:8080/"
        },
        "id": "-2ptHx7ef4on",
        "outputId": "47d9229d-d4f8-49e1-edb4-1c0c17a6366a"
      },
      "outputs": [
        {
          "output_type": "stream",
          "name": "stdout",
          "text": [
            "[('Rupok', 'BU'), ('Rony', 'IUBT'), ('Rabby', 'CU')]\n"
          ]
        }
      ],
      "source": [
        "name = ['Rupok', 'Rony','Rabby']\n",
        "university = ['BU', 'IUBT','CU']\n",
        "\n",
        "zipped = list(zip(name,university))\n",
        "print(zipped)"
      ]
    },
    {
      "cell_type": "code",
      "source": [
        "zipped = tuple(zip(name,university))\n",
        "print(zipped)"
      ],
      "metadata": {
        "colab": {
          "base_uri": "https://localhost:8080/"
        },
        "id": "9vXKlTdSkXXW",
        "outputId": "0b95e833-adaf-44ec-8c5a-cdf912d8b585"
      },
      "execution_count": null,
      "outputs": [
        {
          "output_type": "stream",
          "name": "stdout",
          "text": [
            "(('Rupok', 'BU'), ('Rony', 'IUBT'), ('Rabby', 'CU'))\n"
          ]
        }
      ]
    },
    {
      "cell_type": "code",
      "source": [
        "zipped = dict(zip(name,university))\n",
        "zipped"
      ],
      "metadata": {
        "colab": {
          "base_uri": "https://localhost:8080/"
        },
        "id": "mkLg-QI7kvd8",
        "outputId": "64af4931-da7e-4489-dda5-ecfd03bec8a9"
      },
      "execution_count": null,
      "outputs": [
        {
          "output_type": "execute_result",
          "data": {
            "text/plain": [
              "{'Rupok': 'BU', 'Rony': 'IUBT', 'Rabby': 'CU'}"
            ]
          },
          "metadata": {},
          "execution_count": 4
        }
      ]
    },
    {
      "cell_type": "code",
      "source": [
        "zipped = set(zip(name,university))\n",
        "zipped"
      ],
      "metadata": {
        "colab": {
          "base_uri": "https://localhost:8080/"
        },
        "id": "2PFu6Ka7k6oj",
        "outputId": "0cb2dbb8-4ccf-4cb6-f2f7-00d8ff76a993"
      },
      "execution_count": null,
      "outputs": [
        {
          "output_type": "execute_result",
          "data": {
            "text/plain": [
              "{('Rabby', 'CU'), ('Rony', 'IUBT'), ('Rupok', 'BU')}"
            ]
          },
          "metadata": {},
          "execution_count": 7
        }
      ]
    },
    {
      "cell_type": "markdown",
      "source": [
        "#unzip"
      ],
      "metadata": {
        "id": "C0bder1Tlymq"
      }
    },
    {
      "cell_type": "code",
      "source": [
        "zipped = list(zip(name,university))\n",
        "print(zipped)"
      ],
      "metadata": {
        "colab": {
          "base_uri": "https://localhost:8080/"
        },
        "id": "N9giF-eklKgN",
        "outputId": "0a9b861e-5560-4954-8b24-f6562c28f011"
      },
      "execution_count": null,
      "outputs": [
        {
          "output_type": "stream",
          "name": "stdout",
          "text": [
            "[('Rupok', 'BU'), ('Rony', 'IUBT'), ('Rabby', 'CU')]\n"
          ]
        }
      ]
    },
    {
      "cell_type": "code",
      "source": [
        "name1, varsity1 = zip(*zipped)   #unzip\n"
      ],
      "metadata": {
        "id": "YOi0HaBCmRCM"
      },
      "execution_count": null,
      "outputs": []
    },
    {
      "cell_type": "code",
      "source": [
        "name1"
      ],
      "metadata": {
        "colab": {
          "base_uri": "https://localhost:8080/"
        },
        "id": "tZ7pptummmNp",
        "outputId": "ed156955-33e8-4620-a03a-f523dfd027c6"
      },
      "execution_count": null,
      "outputs": [
        {
          "output_type": "execute_result",
          "data": {
            "text/plain": [
              "('Rupok', 'Rony', 'Rabby')"
            ]
          },
          "metadata": {},
          "execution_count": 14
        }
      ]
    },
    {
      "cell_type": "code",
      "source": [
        "varsity1"
      ],
      "metadata": {
        "id": "ecbZ8r4nmpf5",
        "outputId": "f548d032-0fca-4910-bdab-4d89cec8e148",
        "colab": {
          "base_uri": "https://localhost:8080/"
        }
      },
      "execution_count": null,
      "outputs": [
        {
          "output_type": "execute_result",
          "data": {
            "text/plain": [
              "('BU', 'IUBT', 'CU')"
            ]
          },
          "metadata": {},
          "execution_count": 15
        }
      ]
    }
  ]
}