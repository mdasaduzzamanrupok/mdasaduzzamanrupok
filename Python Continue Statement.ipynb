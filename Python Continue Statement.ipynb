{
 "cells": [
  {
   "cell_type": "markdown",
   "id": "f1ebb9d5",
   "metadata": {},
   "source": [
    "# Continue Statement"
   ]
  },
  {
   "cell_type": "code",
   "execution_count": 1,
   "id": "803d0695",
   "metadata": {},
   "outputs": [],
   "source": [
    " num= [1,2,3,4,5,6,7,8,9,10,11]"
   ]
  },
  {
   "cell_type": "code",
   "execution_count": 2,
   "id": "108d3ef7",
   "metadata": {},
   "outputs": [
    {
     "data": {
      "text/plain": [
       "[2, 4, 6, 8, 10]"
      ]
     },
     "execution_count": 2,
     "metadata": {},
     "output_type": "execute_result"
    }
   ],
   "source": [
    "#list comp.\n",
    "[i for i in num if i%2==0] #even"
   ]
  },
  {
   "cell_type": "code",
   "execution_count": 4,
   "id": "dd390e76",
   "metadata": {},
   "outputs": [
    {
     "name": "stdout",
     "output_type": "stream",
     "text": [
      "2\n",
      "4\n",
      "6\n",
      "8\n",
      "10\n"
     ]
    }
   ],
   "source": [
    "for i in num:\n",
    "    if i%2==1:\n",
    "        continue\n",
    "    print(i)"
   ]
  },
  {
   "cell_type": "code",
   "execution_count": 5,
   "id": "6444b292",
   "metadata": {},
   "outputs": [],
   "source": [
    "sen = 'I love Bangladesn and Turkey'"
   ]
  },
  {
   "cell_type": "code",
   "execution_count": 6,
   "id": "97f7b20b",
   "metadata": {},
   "outputs": [
    {
     "name": "stdout",
     "output_type": "stream",
     "text": [
      "I\n",
      "love\n",
      "Bangladesn\n",
      "Turkey\n"
     ]
    }
   ],
   "source": [
    "for i in sen.split():\n",
    "    if i=='and':\n",
    "        continue\n",
    "    print(i)"
   ]
  },
  {
   "cell_type": "code",
   "execution_count": null,
   "id": "198e36a4",
   "metadata": {},
   "outputs": [],
   "source": [
    "sen = 'I love Bangladesh and turkey'\n",
    "while i==sen:\n",
    "    if i=='and':\n",
    "        continue\n",
    "    print(i)\n",
    "    i=i+1"
   ]
  },
  {
   "cell_type": "code",
   "execution_count": null,
   "id": "09ef53ee",
   "metadata": {},
   "outputs": [],
   "source": []
  },
  {
   "cell_type": "code",
   "execution_count": null,
   "id": "1ffe9e8a",
   "metadata": {},
   "outputs": [],
   "source": []
  }
 ],
 "metadata": {
  "kernelspec": {
   "display_name": "Python 3 (ipykernel)",
   "language": "python",
   "name": "python3"
  },
  "language_info": {
   "codemirror_mode": {
    "name": "ipython",
    "version": 3
   },
   "file_extension": ".py",
   "mimetype": "text/x-python",
   "name": "python",
   "nbconvert_exporter": "python",
   "pygments_lexer": "ipython3",
   "version": "3.9.13"
  }
 },
 "nbformat": 4,
 "nbformat_minor": 5
}
