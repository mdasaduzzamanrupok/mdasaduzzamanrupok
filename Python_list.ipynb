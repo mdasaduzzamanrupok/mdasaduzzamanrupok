{
  "cells": [
    {
      "cell_type": "markdown",
      "metadata": {
        "id": "view-in-github",
        "colab_type": "text"
      },
      "source": [
        "<a href=\"https://colab.research.google.com/github/mdasaduzzamanrupok/mdasaduzzamanrupok/blob/main/Python_list.ipynb\" target=\"_parent\"><img src=\"https://colab.research.google.com/assets/colab-badge.svg\" alt=\"Open In Colab\"/></a>"
      ]
    },
    {
      "cell_type": "markdown",
      "metadata": {
        "id": "_YVWk3mQuBfS"
      },
      "source": [
        "#Python in list"
      ]
    },
    {
      "cell_type": "code",
      "execution_count": null,
      "metadata": {
        "id": "t3R_9trYgfQ-"
      },
      "outputs": [],
      "source": [
        "x=[1,3,4,7,8]\n"
      ]
    },
    {
      "cell_type": "code",
      "execution_count": null,
      "metadata": {
        "colab": {
          "base_uri": "https://localhost:8080/"
        },
        "id": "KwhTHV9HuMg1",
        "outputId": "54f50b5d-c8b6-4c35-b8f0-54ded0b73628"
      },
      "outputs": [
        {
          "data": {
            "text/plain": [
              "list"
            ]
          },
          "execution_count": 6,
          "metadata": {},
          "output_type": "execute_result"
        }
      ],
      "source": [
        "type(x)"
      ]
    },
    {
      "cell_type": "code",
      "execution_count": null,
      "metadata": {
        "colab": {
          "base_uri": "https://localhost:8080/"
        },
        "id": "p3Az8ameunQ3",
        "outputId": "2da239a4-a0a8-4924-ca1f-946f9c032312"
      },
      "outputs": [
        {
          "data": {
            "text/plain": [
              "1"
            ]
          },
          "execution_count": 8,
          "metadata": {},
          "output_type": "execute_result"
        }
      ],
      "source": [
        "x[0] #index"
      ]
    },
    {
      "cell_type": "code",
      "execution_count": null,
      "metadata": {
        "colab": {
          "base_uri": "https://localhost:8080/"
        },
        "id": "ytzZqGJqu0dn",
        "outputId": "789f3f09-247b-4133-e607-3761304cc129"
      },
      "outputs": [
        {
          "data": {
            "text/plain": [
              "8"
            ]
          },
          "execution_count": 9,
          "metadata": {},
          "output_type": "execute_result"
        }
      ],
      "source": [
        "x[-1] "
      ]
    },
    {
      "cell_type": "code",
      "execution_count": null,
      "metadata": {
        "colab": {
          "base_uri": "https://localhost:8080/"
        },
        "id": "delUe8OXu99w",
        "outputId": "ad80e859-b909-41aa-df93-200dd263103f"
      },
      "outputs": [
        {
          "data": {
            "text/plain": [
              "[1, 3, 4]"
            ]
          },
          "execution_count": 10,
          "metadata": {},
          "output_type": "execute_result"
        }
      ],
      "source": [
        "x[0:3]  "
      ]
    },
    {
      "cell_type": "code",
      "execution_count": null,
      "metadata": {
        "id": "Ousd8LnovS9-"
      },
      "outputs": [],
      "source": [
        "x[1] = 'hello world' #change value"
      ]
    },
    {
      "cell_type": "code",
      "execution_count": null,
      "metadata": {
        "colab": {
          "base_uri": "https://localhost:8080/"
        },
        "id": "JfZDslJAvd-u",
        "outputId": "0dcebbb4-a387-4494-a6be-863798bc545e"
      },
      "outputs": [
        {
          "data": {
            "text/plain": [
              "[1, 'hello world', 4, 7, 8]"
            ]
          },
          "execution_count": 13,
          "metadata": {},
          "output_type": "execute_result"
        }
      ],
      "source": [
        "x"
      ]
    },
    {
      "cell_type": "code",
      "execution_count": null,
      "metadata": {
        "id": "VFVt-PRSvyXF"
      },
      "outputs": [],
      "source": [
        "x.append('Hello Bangladesh')  #add value"
      ]
    },
    {
      "cell_type": "code",
      "execution_count": null,
      "metadata": {
        "colab": {
          "base_uri": "https://localhost:8080/"
        },
        "id": "jy642HXNwBr1",
        "outputId": "2a0d72a4-b453-476e-e9ed-45f334edd45f"
      },
      "outputs": [
        {
          "data": {
            "text/plain": [
              "[1, 'hello world', 4, 7, 8, 'hello Bangladesh']"
            ]
          },
          "execution_count": 15,
          "metadata": {},
          "output_type": "execute_result"
        }
      ],
      "source": [
        "x"
      ]
    },
    {
      "cell_type": "markdown",
      "source": [
        "#list methods"
      ],
      "metadata": {
        "id": "MNJHCKRiQyNi"
      }
    },
    {
      "cell_type": "code",
      "execution_count": 19,
      "metadata": {
        "id": "6Dhg3wOkxGNs"
      },
      "outputs": [],
      "source": [
        "#copy()\n",
        "\n",
        "list1 =['2','3','4','7','12', 150,23,24,(2,3,4),'yes','no']"
      ]
    },
    {
      "cell_type": "code",
      "source": [
        "list1"
      ],
      "metadata": {
        "colab": {
          "base_uri": "https://localhost:8080/"
        },
        "id": "cgbBkFFjZwYA",
        "outputId": "6b7a9757-1dcc-46fd-9200-8c230de88816"
      },
      "execution_count": 20,
      "outputs": [
        {
          "output_type": "execute_result",
          "data": {
            "text/plain": [
              "['2', '3', '4', '7', '12', 150, 23, 24, (2, 3, 4), 'yes', 'no']"
            ]
          },
          "metadata": {},
          "execution_count": 20
        }
      ]
    },
    {
      "cell_type": "code",
      "source": [
        "list2 = list1"
      ],
      "metadata": {
        "id": "BBJWpcziZ6-9"
      },
      "execution_count": 21,
      "outputs": []
    },
    {
      "cell_type": "code",
      "source": [
        "list2"
      ],
      "metadata": {
        "colab": {
          "base_uri": "https://localhost:8080/"
        },
        "id": "Jrd8CSDVbhL8",
        "outputId": "5231a54b-30cb-4b95-a08f-5857550ddb95"
      },
      "execution_count": 22,
      "outputs": [
        {
          "output_type": "execute_result",
          "data": {
            "text/plain": [
              "['2', '3', '4', '7', '12', 150, 23, 24, (2, 3, 4), 'yes', 'no']"
            ]
          },
          "metadata": {},
          "execution_count": 22
        }
      ]
    },
    {
      "cell_type": "code",
      "source": [
        "list3 = list1.copy()"
      ],
      "metadata": {
        "id": "9i46LJIYd3VW"
      },
      "execution_count": 23,
      "outputs": []
    },
    {
      "cell_type": "code",
      "source": [
        "list3"
      ],
      "metadata": {
        "id": "Bg_yO2RYeBK2",
        "outputId": "4ff180ca-7aa6-4507-e9e5-13db6c2b3e3e",
        "colab": {
          "base_uri": "https://localhost:8080/"
        }
      },
      "execution_count": 24,
      "outputs": [
        {
          "output_type": "execute_result",
          "data": {
            "text/plain": [
              "['2', '3', '4', '7', '12', 150, 23, 24, (2, 3, 4), 'yes', 'no']"
            ]
          },
          "metadata": {},
          "execution_count": 24
        }
      ]
    },
    {
      "cell_type": "code",
      "source": [
        "list1[0] = '1000'"
      ],
      "metadata": {
        "id": "k9T4Fm1uh3y2"
      },
      "execution_count": 27,
      "outputs": []
    },
    {
      "cell_type": "code",
      "source": [
        "list1  #list1 value change "
      ],
      "metadata": {
        "id": "4Zqy-8ceh9XW",
        "outputId": "29f25a3b-2277-4be3-ebca-2ca5351f9e7e",
        "colab": {
          "base_uri": "https://localhost:8080/"
        }
      },
      "execution_count": 26,
      "outputs": [
        {
          "output_type": "execute_result",
          "data": {
            "text/plain": [
              "['100', '3', '4', '7', '12', 150, 23, 24, (2, 3, 4), 'yes', 'no']"
            ]
          },
          "metadata": {},
          "execution_count": 26
        }
      ]
    },
    {
      "cell_type": "code",
      "source": [
        "list2 #list2 value change "
      ],
      "metadata": {
        "id": "IlDUC2xKjKYz",
        "outputId": "1d3b0af9-1fbf-408b-8c2d-b6d49476c4f0",
        "colab": {
          "base_uri": "https://localhost:8080/"
        }
      },
      "execution_count": 28,
      "outputs": [
        {
          "output_type": "execute_result",
          "data": {
            "text/plain": [
              "['1000', '3', '4', '7', '12', 150, 23, 24, (2, 3, 4), 'yes', 'no']"
            ]
          },
          "metadata": {},
          "execution_count": 28
        }
      ]
    },
    {
      "cell_type": "code",
      "source": [
        "list3 #list3 value not change"
      ],
      "metadata": {
        "id": "yYf21-zPjNI1",
        "outputId": "de10c400-4600-4ae7-f748-67858de9aa3c",
        "colab": {
          "base_uri": "https://localhost:8080/"
        }
      },
      "execution_count": 29,
      "outputs": [
        {
          "output_type": "execute_result",
          "data": {
            "text/plain": [
              "['2', '3', '4', '7', '12', 150, 23, 24, (2, 3, 4), 'yes', 'no']"
            ]
          },
          "metadata": {},
          "execution_count": 29
        }
      ]
    },
    {
      "cell_type": "code",
      "source": [
        "li =[12,42,21]\n",
        "\n"
      ],
      "metadata": {
        "id": "MWBc5jEKkcaJ"
      },
      "execution_count": 39,
      "outputs": []
    },
    {
      "cell_type": "code",
      "source": [
        "li"
      ],
      "metadata": {
        "id": "2GM0ZStwk4xI",
        "outputId": "4f4d672a-65e7-416f-d5d5-57cfa4371267",
        "colab": {
          "base_uri": "https://localhost:8080/"
        }
      },
      "execution_count": 40,
      "outputs": [
        {
          "output_type": "execute_result",
          "data": {
            "text/plain": [
              "[12, 42, 21]"
            ]
          },
          "metadata": {},
          "execution_count": 40
        }
      ]
    },
    {
      "cell_type": "code",
      "source": [
        "#append()  \n",
        "\n",
        "list1.append(li)   #add new value"
      ],
      "metadata": {
        "id": "_54ObGpJji86"
      },
      "execution_count": 41,
      "outputs": []
    },
    {
      "cell_type": "code",
      "source": [
        "list1"
      ],
      "metadata": {
        "id": "1IZ9kb2XjrCj",
        "outputId": "f0412138-46b9-4d85-d376-4e57a0595e1d",
        "colab": {
          "base_uri": "https://localhost:8080/"
        }
      },
      "execution_count": 42,
      "outputs": [
        {
          "output_type": "execute_result",
          "data": {
            "text/plain": [
              "['1000',\n",
              " '3',\n",
              " '4',\n",
              " '7',\n",
              " '12',\n",
              " 150,\n",
              " 23,\n",
              " 24,\n",
              " (2, 3, 4),\n",
              " 'yes',\n",
              " 'no',\n",
              " 200,\n",
              " 'new',\n",
              " 'li',\n",
              " [12, 42, 21]]"
            ]
          },
          "metadata": {},
          "execution_count": 42
        }
      ]
    },
    {
      "cell_type": "code",
      "source": [
        "#extend()\n",
        "\n",
        "list1.extend(li)\n",
        "\n"
      ],
      "metadata": {
        "id": "81b5L7N2kAiB"
      },
      "execution_count": 43,
      "outputs": []
    },
    {
      "cell_type": "code",
      "source": [
        "list1     #value extend"
      ],
      "metadata": {
        "id": "s2XcfXgslRF_",
        "outputId": "aacb2d6f-d27e-4454-ea61-b13d55f57d08",
        "colab": {
          "base_uri": "https://localhost:8080/"
        }
      },
      "execution_count": 44,
      "outputs": [
        {
          "output_type": "execute_result",
          "data": {
            "text/plain": [
              "['1000',\n",
              " '3',\n",
              " '4',\n",
              " '7',\n",
              " '12',\n",
              " 150,\n",
              " 23,\n",
              " 24,\n",
              " (2, 3, 4),\n",
              " 'yes',\n",
              " 'no',\n",
              " 200,\n",
              " 'new',\n",
              " 'li',\n",
              " [12, 42, 21],\n",
              " 12,\n",
              " 42,\n",
              " 21]"
            ]
          },
          "metadata": {},
          "execution_count": 44
        }
      ]
    },
    {
      "cell_type": "code",
      "source": [
        "list1[-1]"
      ],
      "metadata": {
        "id": "BX1OcsYalWGn",
        "outputId": "234d4111-cf15-423b-b3be-dda3992c1e3c",
        "colab": {
          "base_uri": "https://localhost:8080/"
        }
      },
      "execution_count": 45,
      "outputs": [
        {
          "output_type": "execute_result",
          "data": {
            "text/plain": [
              "21"
            ]
          },
          "metadata": {},
          "execution_count": 45
        }
      ]
    },
    {
      "cell_type": "code",
      "source": [
        "list1[-2]"
      ],
      "metadata": {
        "id": "Jn82zULUlg5e",
        "outputId": "ee29daf3-a7d5-473a-ea9e-4e3ccfe69288",
        "colab": {
          "base_uri": "https://localhost:8080/"
        }
      },
      "execution_count": 46,
      "outputs": [
        {
          "output_type": "execute_result",
          "data": {
            "text/plain": [
              "42"
            ]
          },
          "metadata": {},
          "execution_count": 46
        }
      ]
    },
    {
      "cell_type": "code",
      "source": [
        "#insert()  #value insert and repalace \n",
        "\n",
        "list1.insert(0,'Hello world')"
      ],
      "metadata": {
        "id": "DSOf-UwGlpA3"
      },
      "execution_count": 47,
      "outputs": []
    },
    {
      "cell_type": "code",
      "source": [
        "list1"
      ],
      "metadata": {
        "id": "lyXP0yuIl_zN",
        "outputId": "87b35958-61e8-494b-c989-1a0c10b7c415",
        "colab": {
          "base_uri": "https://localhost:8080/"
        }
      },
      "execution_count": 48,
      "outputs": [
        {
          "output_type": "execute_result",
          "data": {
            "text/plain": [
              "['Hello world',\n",
              " '1000',\n",
              " '3',\n",
              " '4',\n",
              " '7',\n",
              " '12',\n",
              " 150,\n",
              " 23,\n",
              " 24,\n",
              " (2, 3, 4),\n",
              " 'yes',\n",
              " 'no',\n",
              " 200,\n",
              " 'new',\n",
              " 'li',\n",
              " [12, 42, 21],\n",
              " 12,\n",
              " 42,\n",
              " 21]"
            ]
          },
          "metadata": {},
          "execution_count": 48
        }
      ]
    },
    {
      "cell_type": "code",
      "source": [
        "#index()     #value index check\n",
        "\n",
        "list1.index(150)"
      ],
      "metadata": {
        "id": "bAHqpYzOmDjd",
        "outputId": "64939995-1b69-4d80-9d17-465a748cd747",
        "colab": {
          "base_uri": "https://localhost:8080/"
        }
      },
      "execution_count": 49,
      "outputs": [
        {
          "output_type": "execute_result",
          "data": {
            "text/plain": [
              "6"
            ]
          },
          "metadata": {},
          "execution_count": 49
        }
      ]
    },
    {
      "cell_type": "code",
      "source": [
        "list1.index([12, 42, 21])"
      ],
      "metadata": {
        "id": "e_4Ld1NXmWeW",
        "outputId": "b4e768dd-0c9f-40d2-bef8-7f836674ea02",
        "colab": {
          "base_uri": "https://localhost:8080/"
        }
      },
      "execution_count": 51,
      "outputs": [
        {
          "output_type": "execute_result",
          "data": {
            "text/plain": [
              "15"
            ]
          },
          "metadata": {},
          "execution_count": 51
        }
      ]
    },
    {
      "cell_type": "code",
      "source": [
        "#count()     #value count \n",
        "\n",
        "list1.count([12, 42, 21])"
      ],
      "metadata": {
        "id": "xW9GvM4Cmymk",
        "outputId": "d5a3f551-1a61-4783-b325-e85de5d4b4c4",
        "colab": {
          "base_uri": "https://localhost:8080/"
        }
      },
      "execution_count": 53,
      "outputs": [
        {
          "output_type": "execute_result",
          "data": {
            "text/plain": [
              "1"
            ]
          },
          "metadata": {},
          "execution_count": 53
        }
      ]
    },
    {
      "cell_type": "code",
      "source": [
        "#sort()    # value arranged \n",
        "\n",
        "ls1 = [10,9,7,8,5,1,11,3,2,4] "
      ],
      "metadata": {
        "id": "23i-eAzAnW9y"
      },
      "execution_count": 68,
      "outputs": []
    },
    {
      "cell_type": "code",
      "source": [
        "ls1"
      ],
      "metadata": {
        "id": "sj_UstexoRzK",
        "outputId": "1831a2c4-9965-451e-9475-d6edb44c2302",
        "colab": {
          "base_uri": "https://localhost:8080/"
        }
      },
      "execution_count": 69,
      "outputs": [
        {
          "output_type": "execute_result",
          "data": {
            "text/plain": [
              "[10, 9, 7, 8, 5, 1, 11, 3, 2, 4]"
            ]
          },
          "metadata": {},
          "execution_count": 69
        }
      ]
    },
    {
      "cell_type": "code",
      "source": [
        "ls1.sort()"
      ],
      "metadata": {
        "id": "TORZKB5XoBvs"
      },
      "execution_count": 70,
      "outputs": []
    },
    {
      "cell_type": "code",
      "source": [
        "ls1"
      ],
      "metadata": {
        "id": "pPHXe3iMoVA_",
        "outputId": "d52596d6-6f4d-4029-c69e-4484079221b7",
        "colab": {
          "base_uri": "https://localhost:8080/"
        }
      },
      "execution_count": 71,
      "outputs": [
        {
          "output_type": "execute_result",
          "data": {
            "text/plain": [
              "[1, 2, 3, 4, 5, 7, 8, 9, 10, 11]"
            ]
          },
          "metadata": {},
          "execution_count": 71
        }
      ]
    },
    {
      "cell_type": "code",
      "source": [
        "#reverse()  #value reverse\n",
        "\n",
        "ls1.reverse()"
      ],
      "metadata": {
        "id": "I0UKVHCuo2-h"
      },
      "execution_count": 74,
      "outputs": []
    },
    {
      "cell_type": "code",
      "source": [
        "ls1"
      ],
      "metadata": {
        "id": "gHXOjdlypXyO",
        "outputId": "0f336776-911d-429e-b6c5-1c8cd45e63fb",
        "colab": {
          "base_uri": "https://localhost:8080/"
        }
      },
      "execution_count": 75,
      "outputs": [
        {
          "output_type": "execute_result",
          "data": {
            "text/plain": [
              "[11, 10, 9, 8, 7, 5, 4, 3, 2, 1]"
            ]
          },
          "metadata": {},
          "execution_count": 75
        }
      ]
    },
    {
      "cell_type": "code",
      "source": [
        "#remove() #value remove \n",
        "\n",
        "ls1.remove(11)"
      ],
      "metadata": {
        "id": "DVEn_v_HpfoG"
      },
      "execution_count": 76,
      "outputs": []
    },
    {
      "cell_type": "code",
      "source": [
        "ls1"
      ],
      "metadata": {
        "id": "pUG1QzczptRu",
        "outputId": "430e16e5-7017-4d37-f35c-4a3a2bee83b4",
        "colab": {
          "base_uri": "https://localhost:8080/"
        }
      },
      "execution_count": 77,
      "outputs": [
        {
          "output_type": "execute_result",
          "data": {
            "text/plain": [
              "[10, 9, 8, 7, 5, 4, 3, 2, 1]"
            ]
          },
          "metadata": {},
          "execution_count": 77
        }
      ]
    },
    {
      "cell_type": "code",
      "source": [
        "#pop() #value pop and remove \n",
        "\n",
        "ls1.pop(-1)"
      ],
      "metadata": {
        "id": "2mdRg6hRpyGl",
        "outputId": "4b2934dd-c608-40a3-ef55-77f85607ae2d",
        "colab": {
          "base_uri": "https://localhost:8080/"
        }
      },
      "execution_count": 78,
      "outputs": [
        {
          "output_type": "execute_result",
          "data": {
            "text/plain": [
              "1"
            ]
          },
          "metadata": {},
          "execution_count": 78
        }
      ]
    },
    {
      "cell_type": "code",
      "source": [
        "ls1"
      ],
      "metadata": {
        "id": "ZZk_KEDUqKcP",
        "outputId": "5d7e1212-3c3c-4004-b128-dfa18990ff29",
        "colab": {
          "base_uri": "https://localhost:8080/"
        }
      },
      "execution_count": 79,
      "outputs": [
        {
          "output_type": "execute_result",
          "data": {
            "text/plain": [
              "[10, 9, 8, 7, 5, 4, 3, 2]"
            ]
          },
          "metadata": {},
          "execution_count": 79
        }
      ]
    },
    {
      "cell_type": "code",
      "source": [
        "#clear()   #Full value remove\n",
        "\n",
        "ls1.clear()"
      ],
      "metadata": {
        "id": "RnDIbAYkqOn1"
      },
      "execution_count": 80,
      "outputs": []
    },
    {
      "cell_type": "code",
      "source": [
        "ls1"
      ],
      "metadata": {
        "id": "w44yjbkqqn_M",
        "outputId": "ed40d9cf-d8d8-4a1a-f3dc-b24ca82c0831",
        "colab": {
          "base_uri": "https://localhost:8080/"
        }
      },
      "execution_count": 81,
      "outputs": [
        {
          "output_type": "execute_result",
          "data": {
            "text/plain": [
              "[]"
            ]
          },
          "metadata": {},
          "execution_count": 81
        }
      ]
    }
  ],
  "metadata": {
    "colab": {
      "provenance": [],
      "authorship_tag": "ABX9TyOzteQMlqsx45vaAKfymTwj",
      "include_colab_link": true
    },
    "kernelspec": {
      "display_name": "Python 3",
      "name": "python3"
    },
    "language_info": {
      "name": "python"
    }
  },
  "nbformat": 4,
  "nbformat_minor": 0
}