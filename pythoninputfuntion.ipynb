{
  "nbformat": 4,
  "nbformat_minor": 0,
  "metadata": {
    "colab": {
      "provenance": [],
      "authorship_tag": "ABX9TyN05PW0gvhY86+HqBil/wjF",
      "include_colab_link": true
    },
    "kernelspec": {
      "name": "python3",
      "display_name": "Python 3"
    },
    "language_info": {
      "name": "python"
    }
  },
  "cells": [
    {
      "cell_type": "markdown",
      "metadata": {
        "id": "view-in-github",
        "colab_type": "text"
      },
      "source": [
        "<a href=\"https://colab.research.google.com/github/mdasaduzzamanrupok/mdasaduzzamanrupok/blob/main/pythoninputfuntion.ipynb\" target=\"_parent\"><img src=\"https://colab.research.google.com/assets/colab-badge.svg\" alt=\"Open In Colab\"/></a>"
      ]
    },
    {
      "cell_type": "markdown",
      "source": [
        "#Input Function"
      ],
      "metadata": {
        "id": "VbWRnEQqykWo"
      }
    },
    {
      "cell_type": "code",
      "source": [
        "data = input()"
      ],
      "metadata": {
        "colab": {
          "base_uri": "https://localhost:8080/"
        },
        "id": "ZHfF16xKy91Z",
        "outputId": "91a9a6c4-f3e9-4f91-e510-97c85b80a943"
      },
      "execution_count": null,
      "outputs": [
        {
          "name": "stdout",
          "output_type": "stream",
          "text": [
            "hello world\n"
          ]
        }
      ]
    },
    {
      "cell_type": "code",
      "source": [
        "data"
      ],
      "metadata": {
        "colab": {
          "base_uri": "https://localhost:8080/",
          "height": 35
        },
        "id": "c0sXGTIT1C2k",
        "outputId": "c4039dd4-728d-45c8-ad9f-967af598a108"
      },
      "execution_count": null,
      "outputs": [
        {
          "output_type": "execute_result",
          "data": {
            "text/plain": [
              "'hello world'"
            ],
            "application/vnd.google.colaboratory.intrinsic+json": {
              "type": "string"
            }
          },
          "metadata": {},
          "execution_count": 15
        }
      ]
    },
    {
      "cell_type": "code",
      "source": [
        "x=input('Submit Your 1st value-')\n",
        "y=input('Submit Your 2nd value-')"
      ],
      "metadata": {
        "colab": {
          "base_uri": "https://localhost:8080/"
        },
        "id": "Urx-s4VK1INy",
        "outputId": "d150630a-6399-4799-e567-b5cfef73aba5"
      },
      "execution_count": null,
      "outputs": [
        {
          "name": "stdout",
          "output_type": "stream",
          "text": [
            "Submit Your 1st value-45\n",
            "Submit Your 2nd value-60\n"
          ]
        }
      ]
    },
    {
      "cell_type": "code",
      "source": [
        "x+y "
      ],
      "metadata": {
        "colab": {
          "base_uri": "https://localhost:8080/",
          "height": 35
        },
        "id": "0RJwBVSH1h5h",
        "outputId": "1e115eb7-ddd1-49a3-bffd-b8552f46b821"
      },
      "execution_count": null,
      "outputs": [
        {
          "output_type": "execute_result",
          "data": {
            "text/plain": [
              "'4560'"
            ],
            "application/vnd.google.colaboratory.intrinsic+json": {
              "type": "string"
            }
          },
          "metadata": {},
          "execution_count": 27
        }
      ]
    },
    {
      "cell_type": "code",
      "source": [
        "x= int(x)\n",
        "y= int(y)"
      ],
      "metadata": {
        "id": "kUONB-0P1ynK"
      },
      "execution_count": null,
      "outputs": []
    },
    {
      "cell_type": "code",
      "source": [
        "x+z"
      ],
      "metadata": {
        "colab": {
          "base_uri": "https://localhost:8080/"
        },
        "id": "a2IZcmmy4R9U",
        "outputId": "4e9cc2f1-d95d-49b9-e0f1-eb0c23a886c8"
      },
      "execution_count": null,
      "outputs": [
        {
          "output_type": "execute_result",
          "data": {
            "text/plain": [
              "105"
            ]
          },
          "metadata": {},
          "execution_count": 29
        }
      ]
    },
    {
      "cell_type": "code",
      "source": [
        "x=float(input('Enter your 1st value:'))"
      ],
      "metadata": {
        "colab": {
          "base_uri": "https://localhost:8080/"
        },
        "id": "8NgDf7xp5qyK",
        "outputId": "2b269a27-630e-48b8-ee8b-a8b37283a28b"
      },
      "execution_count": null,
      "outputs": [
        {
          "name": "stdout",
          "output_type": "stream",
          "text": [
            "Enter your 1st value:144\n"
          ]
        }
      ]
    },
    {
      "cell_type": "code",
      "source": [
        "y=float(input('Enter your 2nd value:'))"
      ],
      "metadata": {
        "id": "gWkYheWy55hQ",
        "colab": {
          "base_uri": "https://localhost:8080/"
        },
        "outputId": "c169f176-f7ea-4b1d-b929-a3b27bec4fdc"
      },
      "execution_count": 35,
      "outputs": [
        {
          "name": "stdout",
          "output_type": "stream",
          "text": [
            "Enter your 2nd value:25.25\n"
          ]
        }
      ]
    },
    {
      "cell_type": "code",
      "source": [
        "x+y"
      ],
      "metadata": {
        "id": "SEmiFjAd6Oco",
        "colab": {
          "base_uri": "https://localhost:8080/"
        },
        "outputId": "2e49b9bd-4efd-416d-90a5-97fd32c05fd2"
      },
      "execution_count": 36,
      "outputs": [
        {
          "data": {
            "text/plain": [
              "169.25"
            ]
          },
          "execution_count": 36,
          "metadata": {},
          "output_type": "execute_result"
        }
      ]
    }
  ]
}