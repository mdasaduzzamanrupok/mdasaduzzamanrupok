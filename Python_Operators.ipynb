{
  "nbformat": 4,
  "nbformat_minor": 0,
  "metadata": {
    "colab": {
      "provenance": [],
      "authorship_tag": "ABX9TyMptE8tafBWssg0fna4Zqws",
      "include_colab_link": true
    },
    "kernelspec": {
      "name": "python3",
      "display_name": "Python 3"
    },
    "language_info": {
      "name": "python"
    }
  },
  "cells": [
    {
      "cell_type": "markdown",
      "metadata": {
        "id": "view-in-github",
        "colab_type": "text"
      },
      "source": [
        "<a href=\"https://colab.research.google.com/github/mdasaduzzamanrupok/mdasaduzzamanrupok/blob/main/Python_Operators.ipynb\" target=\"_parent\"><img src=\"https://colab.research.google.com/assets/colab-badge.svg\" alt=\"Open In Colab\"/></a>"
      ]
    },
    {
      "cell_type": "markdown",
      "source": [
        "#Arithmetic Operator "
      ],
      "metadata": {
        "id": "U2p1cQ_uNpa7"
      }
    },
    {
      "cell_type": "code",
      "execution_count": 38,
      "metadata": {
        "id": "YjWIpqp2_mQi"
      },
      "outputs": [],
      "source": [
        "x = 15\n",
        "y = 4\n",
        "z = 25\n"
      ]
    },
    {
      "cell_type": "code",
      "source": [
        "x+y #addition "
      ],
      "metadata": {
        "colab": {
          "base_uri": "https://localhost:8080/"
        },
        "id": "2OuVjQQ8OIYg",
        "outputId": "2317b2fa-d6d1-4f14-e18e-ade12c142912"
      },
      "execution_count": null,
      "outputs": [
        {
          "output_type": "execute_result",
          "data": {
            "text/plain": [
              "25"
            ]
          },
          "metadata": {},
          "execution_count": 25
        }
      ]
    },
    {
      "cell_type": "code",
      "source": [
        "x-y #Subtraction"
      ],
      "metadata": {
        "colab": {
          "base_uri": "https://localhost:8080/"
        },
        "id": "lIO1dp3bPK6m",
        "outputId": "81bc3cc3-4436-4692-fc65-f94fcce33207"
      },
      "execution_count": null,
      "outputs": [
        {
          "output_type": "execute_result",
          "data": {
            "text/plain": [
              "-5"
            ]
          },
          "metadata": {},
          "execution_count": 26
        }
      ]
    },
    {
      "cell_type": "code",
      "source": [
        "x*y #Multiplication"
      ],
      "metadata": {
        "colab": {
          "base_uri": "https://localhost:8080/"
        },
        "id": "6K-GSRbGPXWF",
        "outputId": "9b13879c-0618-4adb-b118-0e597ae6a2ce"
      },
      "execution_count": null,
      "outputs": [
        {
          "output_type": "execute_result",
          "data": {
            "text/plain": [
              "150"
            ]
          },
          "metadata": {},
          "execution_count": 27
        }
      ]
    },
    {
      "cell_type": "code",
      "source": [
        "y/x  #Division"
      ],
      "metadata": {
        "colab": {
          "base_uri": "https://localhost:8080/"
        },
        "id": "SmlbUTIRPe-9",
        "outputId": "12d75adb-d5f5-44b6-d522-191ae5315f92"
      },
      "execution_count": null,
      "outputs": [
        {
          "output_type": "execute_result",
          "data": {
            "text/plain": [
              "1.5"
            ]
          },
          "metadata": {},
          "execution_count": 28
        }
      ]
    },
    {
      "cell_type": "code",
      "source": [
        "x % z  #Modulas"
      ],
      "metadata": {
        "colab": {
          "base_uri": "https://localhost:8080/"
        },
        "id": "1Dl7cpUFQonF",
        "outputId": "1e0a33f4-1c0c-4de2-e430-c00e4cc33fd1"
      },
      "execution_count": null,
      "outputs": [
        {
          "output_type": "execute_result",
          "data": {
            "text/plain": [
              "10"
            ]
          },
          "metadata": {},
          "execution_count": 30
        }
      ]
    },
    {
      "cell_type": "code",
      "source": [
        "2 ** 2   #Exponentiation"
      ],
      "metadata": {
        "colab": {
          "base_uri": "https://localhost:8080/"
        },
        "id": "FH8sIU5XS20w",
        "outputId": "c6279bc8-7e20-4fd3-fd39-c31c4b6440d0"
      },
      "execution_count": 40,
      "outputs": [
        {
          "output_type": "execute_result",
          "data": {
            "text/plain": [
              "4"
            ]
          },
          "metadata": {},
          "execution_count": 40
        }
      ]
    },
    {
      "cell_type": "code",
      "source": [
        "15*15*15*15 #Example of Exponentiation"
      ],
      "metadata": {
        "colab": {
          "base_uri": "https://localhost:8080/"
        },
        "id": "E3Io4EPCTYc-",
        "outputId": "ed5176da-e624-4321-d37b-560a2963ec0a"
      },
      "execution_count": null,
      "outputs": [
        {
          "output_type": "execute_result",
          "data": {
            "text/plain": [
              "100000"
            ]
          },
          "metadata": {},
          "execution_count": 35
        }
      ]
    },
    {
      "cell_type": "code",
      "source": [
        "x ** y"
      ],
      "metadata": {
        "colab": {
          "base_uri": "https://localhost:8080/"
        },
        "id": "gMNbKv_lTCUe",
        "outputId": "0c63b568-374c-4b7b-dec1-8b429073820b"
      },
      "execution_count": 39,
      "outputs": [
        {
          "output_type": "execute_result",
          "data": {
            "text/plain": [
              "50625"
            ]
          },
          "metadata": {},
          "execution_count": 39
        }
      ]
    },
    {
      "cell_type": "code",
      "source": [
        "x / y    "
      ],
      "metadata": {
        "colab": {
          "base_uri": "https://localhost:8080/"
        },
        "id": "I5jHQgM4UVpm",
        "outputId": "c5201d75-fc11-418b-8d8e-ff7359d05b7f"
      },
      "execution_count": 42,
      "outputs": [
        {
          "output_type": "execute_result",
          "data": {
            "text/plain": [
              "3.75"
            ]
          },
          "metadata": {},
          "execution_count": 42
        }
      ]
    },
    {
      "cell_type": "code",
      "source": [
        "x // y  #floor Division "
      ],
      "metadata": {
        "colab": {
          "base_uri": "https://localhost:8080/"
        },
        "id": "9JK2KpXQUBq3",
        "outputId": "e9ff62b7-f9e5-4be1-916c-69fa4e110ddd"
      },
      "execution_count": 41,
      "outputs": [
        {
          "output_type": "execute_result",
          "data": {
            "text/plain": [
              "3"
            ]
          },
          "metadata": {},
          "execution_count": 41
        }
      ]
    },
    {
      "cell_type": "markdown",
      "source": [
        "#Identy Operators "
      ],
      "metadata": {
        "id": "2xW-NXBdUyFd"
      }
    },
    {
      "cell_type": "code",
      "source": [
        "x = 15    \n",
        "\n",
        "y = 15 \n",
        "\n",
        "x is y        #is operator"
      ],
      "metadata": {
        "colab": {
          "base_uri": "https://localhost:8080/"
        },
        "id": "59iP7moSU57C",
        "outputId": "d8d71719-754d-4e4e-c1ea-0e8314cdada2"
      },
      "execution_count": 43,
      "outputs": [
        {
          "output_type": "execute_result",
          "data": {
            "text/plain": [
              "True"
            ]
          },
          "metadata": {},
          "execution_count": 43
        }
      ]
    },
    {
      "cell_type": "code",
      "source": [
        "x is not y    #is not operator "
      ],
      "metadata": {
        "colab": {
          "base_uri": "https://localhost:8080/"
        },
        "id": "MHB-xHkfVLZr",
        "outputId": "48edc6aa-3c1b-4196-93a0-0a8d7c5720c6"
      },
      "execution_count": 44,
      "outputs": [
        {
          "output_type": "execute_result",
          "data": {
            "text/plain": [
              "False"
            ]
          },
          "metadata": {},
          "execution_count": 44
        }
      ]
    },
    {
      "cell_type": "markdown",
      "source": [
        "#Bitwise Operators "
      ],
      "metadata": {
        "id": "YUNsN9-jVqHi"
      }
    },
    {
      "cell_type": "code",
      "source": [
        "x = 10\n",
        "y = 5 \n",
        "\n",
        "x & y   #and"
      ],
      "metadata": {
        "colab": {
          "base_uri": "https://localhost:8080/"
        },
        "id": "3hqUySC1VW5i",
        "outputId": "7e249931-4205-43c8-8ddc-80b49f490006"
      },
      "execution_count": 45,
      "outputs": [
        {
          "output_type": "execute_result",
          "data": {
            "text/plain": [
              "0"
            ]
          },
          "metadata": {},
          "execution_count": 45
        }
      ]
    },
    {
      "cell_type": "code",
      "source": [
        "x | y  #or"
      ],
      "metadata": {
        "colab": {
          "base_uri": "https://localhost:8080/"
        },
        "id": "vlo_th1IXCER",
        "outputId": "debc15b1-6922-448a-bbc0-6bcc5cb5fe56"
      },
      "execution_count": 46,
      "outputs": [
        {
          "output_type": "execute_result",
          "data": {
            "text/plain": [
              "15"
            ]
          },
          "metadata": {},
          "execution_count": 46
        }
      ]
    },
    {
      "cell_type": "code",
      "source": [
        "x ^ y  #xor"
      ],
      "metadata": {
        "colab": {
          "base_uri": "https://localhost:8080/"
        },
        "id": "4EBz8mQQXOzG",
        "outputId": "3d576a24-14f4-4533-f8a5-82c7b917001c"
      },
      "execution_count": 47,
      "outputs": [
        {
          "output_type": "execute_result",
          "data": {
            "text/plain": [
              "15"
            ]
          },
          "metadata": {},
          "execution_count": 47
        }
      ]
    },
    {
      "cell_type": "code",
      "source": [
        "x << y # zero fill left shift"
      ],
      "metadata": {
        "colab": {
          "base_uri": "https://localhost:8080/"
        },
        "id": "7trujqUCXinW",
        "outputId": "0973b0a7-bbc8-46c4-8c97-8af4028bd8d2"
      },
      "execution_count": 50,
      "outputs": [
        {
          "output_type": "execute_result",
          "data": {
            "text/plain": [
              "320"
            ]
          },
          "metadata": {},
          "execution_count": 50
        }
      ]
    },
    {
      "cell_type": "code",
      "source": [
        "x >> y # signed right shift"
      ],
      "metadata": {
        "colab": {
          "base_uri": "https://localhost:8080/"
        },
        "id": "RQuZkg1vYErN",
        "outputId": "236b1936-d26b-4b84-b618-9b7bddd40842"
      },
      "execution_count": 51,
      "outputs": [
        {
          "output_type": "execute_result",
          "data": {
            "text/plain": [
              "0"
            ]
          },
          "metadata": {},
          "execution_count": 51
        }
      ]
    },
    {
      "cell_type": "markdown",
      "source": [
        "#Comparison operators "
      ],
      "metadata": {
        "id": "7LOPrsm6YMVt"
      }
    },
    {
      "cell_type": "code",
      "source": [
        "x = 10\n",
        "y = 20 \n"
      ],
      "metadata": {
        "id": "8RtWpbswYUQd"
      },
      "execution_count": null,
      "outputs": []
    },
    {
      "cell_type": "code",
      "source": [
        "x == y  #Equal "
      ],
      "metadata": {
        "colab": {
          "base_uri": "https://localhost:8080/"
        },
        "id": "bBeto_3qYbZU",
        "outputId": "20d4fb2f-b7af-49cc-f884-269202a5660b"
      },
      "execution_count": 52,
      "outputs": [
        {
          "output_type": "execute_result",
          "data": {
            "text/plain": [
              "False"
            ]
          },
          "metadata": {},
          "execution_count": 52
        }
      ]
    },
    {
      "cell_type": "code",
      "source": [
        "x != y # not equal"
      ],
      "metadata": {
        "colab": {
          "base_uri": "https://localhost:8080/"
        },
        "id": "Uzxz3qDCYiGM",
        "outputId": "0ea88c28-6803-4a49-9d90-6e59ba55e899"
      },
      "execution_count": 53,
      "outputs": [
        {
          "output_type": "execute_result",
          "data": {
            "text/plain": [
              "True"
            ]
          },
          "metadata": {},
          "execution_count": 53
        }
      ]
    },
    {
      "cell_type": "code",
      "source": [
        "x > y # Greter than \n"
      ],
      "metadata": {
        "colab": {
          "base_uri": "https://localhost:8080/"
        },
        "id": "-gXPW0StYmnG",
        "outputId": "344fdc24-7031-4ae0-a2be-23744d75cd77"
      },
      "execution_count": 54,
      "outputs": [
        {
          "output_type": "execute_result",
          "data": {
            "text/plain": [
              "True"
            ]
          },
          "metadata": {},
          "execution_count": 54
        }
      ]
    },
    {
      "cell_type": "code",
      "source": [
        "x < y # less than "
      ],
      "metadata": {
        "colab": {
          "base_uri": "https://localhost:8080/"
        },
        "id": "RTeUNxoPYsfU",
        "outputId": "020bc9cc-e03f-4c88-df4f-0174176dae8e"
      },
      "execution_count": 55,
      "outputs": [
        {
          "output_type": "execute_result",
          "data": {
            "text/plain": [
              "False"
            ]
          },
          "metadata": {},
          "execution_count": 55
        }
      ]
    },
    {
      "cell_type": "code",
      "source": [
        "x >= y  #greater than equal to "
      ],
      "metadata": {
        "colab": {
          "base_uri": "https://localhost:8080/"
        },
        "id": "1Z8UUh8nYwtb",
        "outputId": "56f19afa-bec0-4635-b630-0910a115c8f3"
      },
      "execution_count": 56,
      "outputs": [
        {
          "output_type": "execute_result",
          "data": {
            "text/plain": [
              "True"
            ]
          },
          "metadata": {},
          "execution_count": 56
        }
      ]
    },
    {
      "cell_type": "code",
      "source": [
        "x <= y # less than or equal to "
      ],
      "metadata": {
        "colab": {
          "base_uri": "https://localhost:8080/"
        },
        "id": "7r1IlkQKY0pk",
        "outputId": "ded63e2f-6b19-4309-bfec-bf56681898c5"
      },
      "execution_count": 57,
      "outputs": [
        {
          "output_type": "execute_result",
          "data": {
            "text/plain": [
              "False"
            ]
          },
          "metadata": {},
          "execution_count": 57
        }
      ]
    },
    {
      "cell_type": "markdown",
      "source": [
        "#Logical operator "
      ],
      "metadata": {
        "id": "wnuaQWYvZD4r"
      }
    },
    {
      "cell_type": "code",
      "source": [
        "x = 10\n",
        "y = 20\n",
        "\n",
        "x and y  #and"
      ],
      "metadata": {
        "colab": {
          "base_uri": "https://localhost:8080/"
        },
        "id": "5muY7S3AZLOD",
        "outputId": "00ee2e72-7589-47d1-b400-d1cb46bad091"
      },
      "execution_count": 58,
      "outputs": [
        {
          "output_type": "execute_result",
          "data": {
            "text/plain": [
              "20"
            ]
          },
          "metadata": {},
          "execution_count": 58
        }
      ]
    },
    {
      "cell_type": "code",
      "source": [
        "x or y  #or"
      ],
      "metadata": {
        "colab": {
          "base_uri": "https://localhost:8080/"
        },
        "id": "UR0hzHPHZckV",
        "outputId": "17bb10f8-22dc-4606-f8ee-a70614f1e01b"
      },
      "execution_count": 59,
      "outputs": [
        {
          "output_type": "execute_result",
          "data": {
            "text/plain": [
              "10"
            ]
          },
          "metadata": {},
          "execution_count": 59
        }
      ]
    },
    {
      "cell_type": "code",
      "source": [
        "not (x and y) #not "
      ],
      "metadata": {
        "colab": {
          "base_uri": "https://localhost:8080/"
        },
        "id": "_P6RJFc3ZiFz",
        "outputId": "27e40007-5d87-4db2-f669-daf4881941ec"
      },
      "execution_count": 61,
      "outputs": [
        {
          "output_type": "execute_result",
          "data": {
            "text/plain": [
              "False"
            ]
          },
          "metadata": {},
          "execution_count": 61
        }
      ]
    },
    {
      "cell_type": "markdown",
      "source": [
        "#Membership operators "
      ],
      "metadata": {
        "id": "IW0Mv_yXZrUb"
      }
    },
    {
      "cell_type": "code",
      "source": [
        "list1 = [1,2,3,4,7]\n",
        "\n",
        "1 in list1   #in"
      ],
      "metadata": {
        "colab": {
          "base_uri": "https://localhost:8080/"
        },
        "id": "BjyW3rMfZvf6",
        "outputId": "5890b47f-1395-4468-e9a2-a2d277b49c6b"
      },
      "execution_count": 63,
      "outputs": [
        {
          "output_type": "execute_result",
          "data": {
            "text/plain": [
              "True"
            ]
          },
          "metadata": {},
          "execution_count": 63
        }
      ]
    },
    {
      "cell_type": "code",
      "source": [
        "10 not in list1   #not in"
      ],
      "metadata": {
        "colab": {
          "base_uri": "https://localhost:8080/"
        },
        "id": "h6WDIUCWaX3q",
        "outputId": "de6b11ae-de7a-48ea-e5bf-f6ae2a95c99c"
      },
      "execution_count": 64,
      "outputs": [
        {
          "output_type": "execute_result",
          "data": {
            "text/plain": [
              "True"
            ]
          },
          "metadata": {},
          "execution_count": 64
        }
      ]
    },
    {
      "cell_type": "code",
      "source": [
        "10 in list1  #example"
      ],
      "metadata": {
        "colab": {
          "base_uri": "https://localhost:8080/"
        },
        "id": "uM-zr3kwacQx",
        "outputId": "37d142cc-3411-40da-8d86-fe7d4c5ed603"
      },
      "execution_count": 65,
      "outputs": [
        {
          "output_type": "execute_result",
          "data": {
            "text/plain": [
              "False"
            ]
          },
          "metadata": {},
          "execution_count": 65
        }
      ]
    },
    {
      "cell_type": "code",
      "source": [
        "1 not in list1 #example"
      ],
      "metadata": {
        "colab": {
          "base_uri": "https://localhost:8080/"
        },
        "id": "eotygn9WakbK",
        "outputId": "31c307a2-9123-478d-fb1d-4ade02c7f34e"
      },
      "execution_count": 67,
      "outputs": [
        {
          "output_type": "execute_result",
          "data": {
            "text/plain": [
              "False"
            ]
          },
          "metadata": {},
          "execution_count": 67
        }
      ]
    },
    {
      "cell_type": "markdown",
      "source": [
        "#Assignment Operators "
      ],
      "metadata": {
        "id": "DyfO01Edato5"
      }
    },
    {
      "cell_type": "code",
      "source": [
        "\n",
        "#Example         Operators            \n",
        "x = 5         #  =          same as x =5 \n",
        "\n",
        "x += 5        #  +=         same as  x = x+5 \n",
        "\n",
        "x -= 5        #  -=         same as  x = x-5\n",
        "\n",
        "x *= 5        #  *=         same as  x = x*5\n",
        "\n",
        "x /= 5        #  /=         same as  x = x/5\n",
        "\n",
        "x %= 5        #  %=         same as  x = x%5\n",
        "\n",
        "x //= 5       #  //=        same as  x = x//5\n",
        "\n",
        "x **= 5       #  **=        same as  x = x**5\n",
        "\n",
        "x &= 5        #  &=         same as  x = x&5\n",
        "\n",
        "x |= 5        #  |=         same as  x = x|5\n",
        "\n",
        "x ^= 5        #  ^=         same as  x = x^5\n",
        "\n",
        "x >>= 5       #  >>=        same as  x = x>>5\n",
        "\n",
        "x <<= 5       #  <<=        same as  x = x<<5\n",
        "\n",
        "\n",
        "\n",
        "\n"
      ],
      "metadata": {
        "id": "2cLSHgcGa5sy"
      },
      "execution_count": 68,
      "outputs": []
    }
  ]
}