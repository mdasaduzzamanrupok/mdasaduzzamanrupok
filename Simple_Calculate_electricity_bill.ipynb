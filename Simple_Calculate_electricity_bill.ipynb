{
  "nbformat": 4,
  "nbformat_minor": 0,
  "metadata": {
    "colab": {
      "provenance": [],
      "authorship_tag": "ABX9TyPD/Fe7rJoTGUqaF50/KFW8",
      "include_colab_link": true
    },
    "kernelspec": {
      "name": "python3",
      "display_name": "Python 3"
    },
    "language_info": {
      "name": "python"
    }
  },
  "cells": [
    {
      "cell_type": "markdown",
      "metadata": {
        "id": "view-in-github",
        "colab_type": "text"
      },
      "source": [
        "<a href=\"https://colab.research.google.com/github/mdasaduzzamanrupok/mdasaduzzamanrupok/blob/main/Simple_Calculate_electricity_bill.ipynb\" target=\"_parent\"><img src=\"https://colab.research.google.com/assets/colab-badge.svg\" alt=\"Open In Colab\"/></a>"
      ]
    },
    {
      "cell_type": "markdown",
      "source": [
        " \n",
        "# Write a program to calculate the electricity bill ( accept number of unit from user) according to the following critria:\n",
        "\n",
        " # Unit                 Price    \n",
        "\n",
        " #frist 100 units       no charge\n",
        " #next 100 units        Rs 8 per unit\n",
        " #after 200 units       Rs 12 per unit  (Extra 400 will be added)\n",
        " #(For example if input unit is 250 than total bill amount is Rs1000)"
      ],
      "metadata": {
        "id": "K1rfvew_kKGu"
      }
    },
    {
      "cell_type": "code",
      "execution_count": 7,
      "metadata": {
        "colab": {
          "base_uri": "https://localhost:8080/"
        },
        "id": "zJkBzurOhI0U",
        "outputId": "b4074dd8-fbf7-4d62-a5f5-13566a9dec52"
      },
      "outputs": [
        {
          "output_type": "stream",
          "name": "stdout",
          "text": [
            "Enter Your unit value: 250\n",
            "amount is  1000.0\n"
          ]
        }
      ],
      "source": [
        "amount = 0\n",
        "net_units = float(input(\"Enter Your unit value: \"))\n",
        "\n",
        "if net_units <= 100:\n",
        "   amount = 0\n",
        "   print('amount is ', amount)\n",
        "elif net_units > 100 and net_units <= 200:\n",
        "   amount = (net_units - 100) * 8\n",
        "   print('amount is ', amount)\n",
        "elif net_units > 200:\n",
        "  amount = ((net_units -200) *12) +400\n",
        "  print('amount is ', amount)"
      ]
    }
  ]
}