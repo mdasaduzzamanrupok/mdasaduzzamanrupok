{
  "nbformat": 4,
  "nbformat_minor": 0,
  "metadata": {
    "colab": {
      "provenance": [],
      "authorship_tag": "ABX9TyO3aZZTZs9Ft9GyTJV4/skh",
      "include_colab_link": true
    },
    "kernelspec": {
      "name": "python3",
      "display_name": "Python 3"
    },
    "language_info": {
      "name": "python"
    }
  },
  "cells": [
    {
      "cell_type": "markdown",
      "metadata": {
        "id": "view-in-github",
        "colab_type": "text"
      },
      "source": [
        "<a href=\"https://colab.research.google.com/github/mdasaduzzamanrupok/mdasaduzzamanrupok/blob/main/While_Loop.ipynb\" target=\"_parent\"><img src=\"https://colab.research.google.com/assets/colab-badge.svg\" alt=\"Open In Colab\"/></a>"
      ]
    },
    {
      "cell_type": "markdown",
      "source": [
        "#While Loop\n"
      ],
      "metadata": {
        "id": "td6AowZl6tUg"
      }
    },
    {
      "cell_type": "code",
      "execution_count": 2,
      "metadata": {
        "colab": {
          "base_uri": "https://localhost:8080/"
        },
        "id": "NJ7DGQ8S6DgI",
        "outputId": "f3b2f066-f0b6-41e1-8367-f447f6870057"
      },
      "outputs": [
        {
          "output_type": "stream",
          "name": "stdout",
          "text": [
            "0\n",
            "1\n",
            "2\n",
            "3\n",
            "4\n",
            "5\n",
            "6\n",
            "7\n",
            "8\n",
            "9\n",
            "10\n"
          ]
        }
      ],
      "source": [
        "i = 0 \n",
        "while (i<=10):  #while expression \n",
        "   print(i)\n",
        "   i += 1   #statement Ex- i = i+1"
      ]
    },
    {
      "cell_type": "code",
      "source": [
        "data ='python'\n",
        "data[0]"
      ],
      "metadata": {
        "colab": {
          "base_uri": "https://localhost:8080/",
          "height": 35
        },
        "id": "xNtkPDJCC3ZO",
        "outputId": "c633a93f-c95e-4c4d-d6a3-c98d65ce8f07"
      },
      "execution_count": 3,
      "outputs": [
        {
          "output_type": "execute_result",
          "data": {
            "text/plain": [
              "'p'"
            ],
            "application/vnd.google.colaboratory.intrinsic+json": {
              "type": "string"
            }
          },
          "metadata": {},
          "execution_count": 3
        }
      ]
    },
    {
      "cell_type": "code",
      "source": [
        "index = 0\n",
        "while index<len(data):\n",
        "   print(data[index], index)\n",
        "   index = index+1"
      ],
      "metadata": {
        "colab": {
          "base_uri": "https://localhost:8080/"
        },
        "id": "KEQ-TkcQETEq",
        "outputId": "c8352d5f-50dd-4785-e87b-26f91c57fed3"
      },
      "execution_count": 10,
      "outputs": [
        {
          "output_type": "stream",
          "name": "stdout",
          "text": [
            "p 0\n",
            "y 1\n",
            "t 2\n",
            "h 3\n",
            "o 4\n",
            "n 5\n"
          ]
        }
      ]
    },
    {
      "cell_type": "code",
      "source": [
        "data = 'I love Bangladesh'\n",
        "data = data.split()\n",
        "index = 0\n",
        "while index<len(data):\n",
        "   print(data[index])\n",
        "   index += 1                "
      ],
      "metadata": {
        "colab": {
          "base_uri": "https://localhost:8080/"
        },
        "id": "u_6ja9hvJoGg",
        "outputId": "3fb92948-35df-46e2-d9ab-15b6bc9b2727"
      },
      "execution_count": 16,
      "outputs": [
        {
          "output_type": "stream",
          "name": "stdout",
          "text": [
            "I\n",
            "love\n",
            "Bangladesh\n"
          ]
        }
      ]
    },
    {
      "cell_type": "code",
      "source": [
        "number = [2,3,5,4,5,84,100]\n",
        "total=0\n",
        "index=0\n",
        "while (index<len(number)):\n",
        "    total=total+number[index]\n",
        "    print(index,total)\n",
        "    index+=1"
      ],
      "metadata": {
        "colab": {
          "base_uri": "https://localhost:8080/"
        },
        "id": "gedEpzvcKn72",
        "outputId": "3e134963-690a-40ec-d388-9ecdbcdcba43"
      },
      "execution_count": 24,
      "outputs": [
        {
          "output_type": "stream",
          "name": "stdout",
          "text": [
            "0 2\n",
            "1 5\n",
            "2 10\n",
            "3 14\n",
            "4 19\n",
            "5 103\n",
            "6 203\n"
          ]
        }
      ]
    },
    {
      "cell_type": "markdown",
      "source": [
        "#Exercise\n",
        "#Display numbers from -100 to -10 using while loop"
      ],
      "metadata": {
        "id": "ufNgLp7CNAka"
      }
    },
    {
      "cell_type": "code",
      "source": [
        "num = -100\n",
        "while num<=-10:\n",
        "  print(num, end=\"\")\n",
        "  num +=1"
      ],
      "metadata": {
        "colab": {
          "base_uri": "https://localhost:8080/"
        },
        "id": "-ApJEw1vNFBC",
        "outputId": "aeee2f93-bcb1-4fa4-f30c-857ebd2c37cd"
      },
      "execution_count": 31,
      "outputs": [
        {
          "output_type": "stream",
          "name": "stdout",
          "text": [
            "-100-99-98-97-96-95-94-93-92-91-90-89-88-87-86-85-84-83-82-81-80-79-78-77-76-75-74-73-72-71-70-69-68-67-66-65-64-63-62-61-60-59-58-57-56-55-54-53-52-51-50-49-48-47-46-45-44-43-42-41-40-39-38-37-36-35-34-33-32-31-30-29-28-27-26-25-24-23-22-21-20-19-18-17-16-15-14-13-12-11-10"
          ]
        }
      ]
    },
    {
      "cell_type": "markdown",
      "source": [
        "#Find the factorial of a n!. (hint, n=7: 5040):\n",
        "\n"
      ],
      "metadata": {
        "id": "b9kDXjjGOpfE"
      }
    },
    {
      "cell_type": "code",
      "source": [
        "fact = 1 \n",
        "factnumber = 7\n",
        "while factnumber>0:\n",
        "  fact=fact*factnumber\n",
        "  print(fact)\n",
        "  factnumber= factnumber-1\n",
        "  "
      ],
      "metadata": {
        "colab": {
          "base_uri": "https://localhost:8080/"
        },
        "id": "DSDPi8oqOaZe",
        "outputId": "6e903473-bff7-4ddc-9f6f-85efa8c13fe8"
      },
      "execution_count": 32,
      "outputs": [
        {
          "output_type": "stream",
          "name": "stdout",
          "text": [
            "7\n",
            "42\n",
            "210\n",
            "840\n",
            "2520\n",
            "5040\n",
            "5040\n"
          ]
        }
      ]
    }
  ]
}