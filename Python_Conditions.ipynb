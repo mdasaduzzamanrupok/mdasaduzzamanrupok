{
  "nbformat": 4,
  "nbformat_minor": 0,
  "metadata": {
    "colab": {
      "provenance": [],
      "authorship_tag": "ABX9TyMV6rp6jrG83rn12rMVp8u1",
      "include_colab_link": true
    },
    "kernelspec": {
      "name": "python3",
      "display_name": "Python 3"
    },
    "language_info": {
      "name": "python"
    }
  },
  "cells": [
    {
      "cell_type": "markdown",
      "metadata": {
        "id": "view-in-github",
        "colab_type": "text"
      },
      "source": [
        "<a href=\"https://colab.research.google.com/github/mdasaduzzamanrupok/mdasaduzzamanrupok/blob/main/Python_Conditions.ipynb\" target=\"_parent\"><img src=\"https://colab.research.google.com/assets/colab-badge.svg\" alt=\"Open In Colab\"/></a>"
      ]
    },
    {
      "cell_type": "markdown",
      "source": [
        "#Conditions (if,else,elif)"
      ],
      "metadata": {
        "id": "rAC9ODj8pg_O"
      }
    },
    {
      "cell_type": "code",
      "execution_count": null,
      "metadata": {
        "colab": {
          "base_uri": "https://localhost:8080/"
        },
        "id": "Vwiff9PIfBde",
        "outputId": "31e7a7f7-bdc1-46c9-dae8-030a5af6c1bc"
      },
      "outputs": [
        {
          "output_type": "stream",
          "name": "stdout",
          "text": [
            "y geterthan than x\n"
          ]
        }
      ],
      "source": [
        "x = 50 \n",
        "y = 150\n",
        "\n",
        "if x>y:\n",
        "   print(\"x is less than y \")\n",
        "\n",
        "else:\n",
        "   print(\"y is geterthan than x\")"
      ]
    },
    {
      "cell_type": "code",
      "source": [
        "age = int(input('Enter your age: '))\n",
        "\n",
        "if age>18:\n",
        "  print('You adult person')\n",
        "\n",
        "else:\n",
        "  print(\"You not adult\")"
      ],
      "metadata": {
        "colab": {
          "base_uri": "https://localhost:8080/"
        },
        "id": "iuqx-Zy_qvkr",
        "outputId": "6a60c0c8-ec1f-4419-a5ab-3b3bcbb4433d"
      },
      "execution_count": null,
      "outputs": [
        {
          "output_type": "stream",
          "name": "stdout",
          "text": [
            "Enter your age: 14\n",
            "You not adult\n"
          ]
        }
      ]
    },
    {
      "cell_type": "code",
      "source": [
        "x = 50\n",
        "y = 150\n",
        "\n",
        "if x>y:\n",
        "   print(\"x is less than y \")\n",
        "elif x!=y:\n",
        "  print(\" Not equal \")\n",
        "else:\n",
        "   print(\"y geterthan than x\")"
      ],
      "metadata": {
        "colab": {
          "base_uri": "https://localhost:8080/"
        },
        "id": "zJeWuq-AtRH2",
        "outputId": "28db6706-b581-4c21-d945-809ae18a2479"
      },
      "execution_count": null,
      "outputs": [
        {
          "output_type": "stream",
          "name": "stdout",
          "text": [
            " Not equal \n"
          ]
        }
      ]
    },
    {
      "cell_type": "markdown",
      "source": [
        "# Some Problem solved\n",
        "\n",
        "\n"
      ],
      "metadata": {
        "id": "d5HNlcHbzCEL"
      }
    },
    {
      "cell_type": "markdown",
      "source": [
        "#Problem1 Take values of length and breadth of a rectangle from user and check if it is square or not."
      ],
      "metadata": {
        "id": "WqY_2wYVzQxj"
      }
    },
    {
      "cell_type": "code",
      "source": [
        "length= int(input(\"Enter your length values: \"))\n",
        "breadth= int(input(\"Enter your breadth values: \"))\n",
        "\n",
        "if length==breadth:\n",
        "   print(\"It is square\")\n",
        "else:\n",
        "  print(\"It is not square\")"
      ],
      "metadata": {
        "colab": {
          "base_uri": "https://localhost:8080/"
        },
        "id": "34IW-CoCyjiV",
        "outputId": "747f8bf1-c4af-4fb9-a7de-dc31c2accbde"
      },
      "execution_count": null,
      "outputs": [
        {
          "output_type": "stream",
          "name": "stdout",
          "text": [
            "Enter your length values: 45\n",
            "Enter your breadth values: 45\n",
            "square\n"
          ]
        }
      ]
    },
    {
      "cell_type": "markdown",
      "source": [
        "#Problem2 Take input of age of 3 people by user and determine oldest and youngest among them."
      ],
      "metadata": {
        "id": "dqjLtKut00cP"
      }
    },
    {
      "cell_type": "code",
      "source": [
        "people1=int(input(\"Rahim input your age: \"))\n",
        "people2=int(input(\"Karim input your age: \"))\n",
        "people3=int(input(\"Rafi input your age: \"))\n",
        "\n",
        "if people1>people2 and people1>people3:\n",
        "  print(\"rahim is old\",people1)\n",
        "elif people2>people1 and people2>people3:\n",
        "  print(\"karim is old\", people2)\n",
        "elif people3>people1 and people3>people2:\n",
        "  print(\"Rafi is old\",people3)\n"
      ],
      "metadata": {
        "id": "t_sBom7o04fP",
        "colab": {
          "base_uri": "https://localhost:8080/"
        },
        "outputId": "f3ed56f1-f2e4-472e-e94e-33cff56d822f"
      },
      "execution_count": 31,
      "outputs": [
        {
          "output_type": "stream",
          "name": "stdout",
          "text": [
            "Rahim input your age: 85\n",
            "Karim input your age: 47\n",
            "Rafi input your age: 41\n",
            "rahim is old 85\n"
          ]
        }
      ]
    },
    {
      "cell_type": "markdown",
      "source": [
        "#Problem3 A student will not be allowed to sit in exam if his/her attendence is less than 75% ."
      ],
      "metadata": {
        "id": "KILGnylVLc8Y"
      }
    },
    {
      "cell_type": "code",
      "source": [
        "student_attendence=int(input(\"Write here student attendence: \"))\n",
        "\n",
        "if student_attendence<75 and student_attendence<100:\n",
        "  print(\"This student is not allowed this exam\")\n",
        "elif student_attendence<100:\n",
        "  print(\"This student allowed for this exam\")\n",
        "\n",
        "else:\n",
        "  print(\"Your attendence must be less than 100\")\n"
      ],
      "metadata": {
        "colab": {
          "base_uri": "https://localhost:8080/"
        },
        "id": "S_bPTcalLk9b",
        "outputId": "447e6369-f73f-4af0-badb-6b45fd0abf19"
      },
      "execution_count": 33,
      "outputs": [
        {
          "output_type": "stream",
          "name": "stdout",
          "text": [
            "Write here student attendence: 76\n",
            "This student allowed for this exam\n"
          ]
        }
      ]
    },
    {
      "cell_type": "markdown",
      "source": [
        "#Problem4 A school has following rules for grading system."
      ],
      "metadata": {
        "id": "ujJ8oHNAR3d0"
      }
    },
    {
      "cell_type": "code",
      "source": [
        "grade = int(input(\"Enter your number: \"))\n",
        "\n",
        "if grade<25:\n",
        "  print(\"F\")\n",
        "elif grade<44 and grade>=25:\n",
        "  print(\"E\")\n",
        "elif grade<49 and grade>=45:\n",
        "  print(\"D\")\n",
        "elif grade<59 and grade>=50:\n",
        "  print(\"C\")\n",
        "elif grade<79 and grade>=60:\n",
        "  print(\"B\")\n",
        "elif grade<89 and grade>=80:\n",
        "  print(\"A\")\n",
        "elif grade<100 and grade>=90:\n",
        "  print(\"A+\")\n",
        "\n",
        "else:\n",
        "  print(\"Out of the limits\")"
      ],
      "metadata": {
        "colab": {
          "base_uri": "https://localhost:8080/"
        },
        "id": "kP-k4no_SCgq",
        "outputId": "98bc8548-d2e2-475b-a455-5046f7766a6d"
      },
      "execution_count": 46,
      "outputs": [
        {
          "output_type": "stream",
          "name": "stdout",
          "text": [
            "Enter your number: 95\n",
            "A+\n"
          ]
        }
      ]
    }
  ]
}