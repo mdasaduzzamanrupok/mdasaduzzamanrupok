{
  "nbformat": 4,
  "nbformat_minor": 0,
  "metadata": {
    "colab": {
      "provenance": [],
      "authorship_tag": "ABX9TyNOstUXUrPRXEAnzo+lervK",
      "include_colab_link": true
    },
    "kernelspec": {
      "name": "python3",
      "display_name": "Python 3"
    },
    "language_info": {
      "name": "python"
    }
  },
  "cells": [
    {
      "cell_type": "markdown",
      "metadata": {
        "id": "view-in-github",
        "colab_type": "text"
      },
      "source": [
        "<a href=\"https://colab.research.google.com/github/mdasaduzzamanrupok/mdasaduzzamanrupok/blob/main/For_Loop.ipynb\" target=\"_parent\"><img src=\"https://colab.research.google.com/assets/colab-badge.svg\" alt=\"Open In Colab\"/></a>"
      ]
    },
    {
      "cell_type": "markdown",
      "source": [
        "#For Loop "
      ],
      "metadata": {
        "id": "_DdSQudMPlP1"
      }
    },
    {
      "cell_type": "code",
      "source": [
        "data = 'python'"
      ],
      "metadata": {
        "id": "6sW1sTXOb5bF"
      },
      "execution_count": null,
      "outputs": []
    },
    {
      "cell_type": "code",
      "source": [
        "data[0]"
      ],
      "metadata": {
        "colab": {
          "base_uri": "https://localhost:8080/",
          "height": 35
        },
        "id": "XLpzQxuMb8il",
        "outputId": "1dc6dede-65a9-4877-dd12-4adfac66e038"
      },
      "execution_count": 38,
      "outputs": [
        {
          "output_type": "execute_result",
          "data": {
            "text/plain": [
              "'I'"
            ],
            "application/vnd.google.colaboratory.intrinsic+json": {
              "type": "string"
            }
          },
          "metadata": {},
          "execution_count": 38
        }
      ]
    },
    {
      "cell_type": "code",
      "source": [
        "data[-1]"
      ],
      "metadata": {
        "colab": {
          "base_uri": "https://localhost:8080/",
          "height": 35
        },
        "id": "Hecna76XcBDl",
        "outputId": "04123b59-25cd-4596-c7b3-ed348246ef0e"
      },
      "execution_count": 39,
      "outputs": [
        {
          "output_type": "execute_result",
          "data": {
            "text/plain": [
              "'much'"
            ],
            "application/vnd.google.colaboratory.intrinsic+json": {
              "type": "string"
            }
          },
          "metadata": {},
          "execution_count": 39
        }
      ]
    },
    {
      "cell_type": "code",
      "source": [
        "for y in data:\n",
        "  print(y)"
      ],
      "metadata": {
        "colab": {
          "base_uri": "https://localhost:8080/"
        },
        "id": "QTTPS42ZcM5M",
        "outputId": "289c8fe3-1212-42e3-a2d0-c951e705006a"
      },
      "execution_count": 41,
      "outputs": [
        {
          "output_type": "stream",
          "name": "stdout",
          "text": [
            "I\n",
            "love\n",
            "bangladesh\n",
            "so\n",
            "much\n"
          ]
        }
      ]
    },
    {
      "cell_type": "code",
      "source": [
        "range(10)"
      ],
      "metadata": {
        "id": "1EkMdknEclRN"
      },
      "execution_count": null,
      "outputs": []
    },
    {
      "cell_type": "code",
      "source": [
        "range(0,10)"
      ],
      "metadata": {
        "id": "1UOF5mQ5dNA8"
      },
      "execution_count": null,
      "outputs": []
    },
    {
      "cell_type": "code",
      "source": [
        "for x in range(len(data)):   #range use than same work\n",
        "  print(data[x])"
      ],
      "metadata": {
        "colab": {
          "base_uri": "https://localhost:8080/"
        },
        "id": "zp4VqT89dQPK",
        "outputId": "18142b02-cece-44ea-937c-24c8a0c90b12"
      },
      "execution_count": null,
      "outputs": [
        {
          "output_type": "stream",
          "name": "stdout",
          "text": [
            "p\n",
            "y\n",
            "t\n",
            "h\n",
            "o\n",
            "n\n"
          ]
        }
      ]
    },
    {
      "cell_type": "code",
      "source": [
        "data='I love bangladesh so much'\n",
        "for x in range(len(data)):\n",
        "  print(data[x])\n",
        "  \n"
      ],
      "metadata": {
        "colab": {
          "base_uri": "https://localhost:8080/"
        },
        "id": "Uke-0b7Kd7mA",
        "outputId": "97d73e3b-28fb-4dc9-c88c-84624981e2c3"
      },
      "execution_count": 40,
      "outputs": [
        {
          "output_type": "stream",
          "name": "stdout",
          "text": [
            "I\n",
            " \n",
            "l\n",
            "o\n",
            "v\n",
            "e\n",
            " \n",
            "b\n",
            "a\n",
            "n\n",
            "g\n",
            "l\n",
            "a\n",
            "d\n",
            "e\n",
            "s\n",
            "h\n",
            " \n",
            "s\n",
            "o\n",
            " \n",
            "m\n",
            "u\n",
            "c\n",
            "h\n"
          ]
        }
      ]
    },
    {
      "cell_type": "code",
      "source": [
        "data='I love bangladesh so much'\n",
        "data= data.split()\n",
        "for x in range(len(data)):\n",
        "  print(data[x])"
      ],
      "metadata": {
        "colab": {
          "base_uri": "https://localhost:8080/"
        },
        "id": "UFtEZGgqlUeT",
        "outputId": "8f38d893-cf40-4ac1-d780-507438e061d8"
      },
      "execution_count": null,
      "outputs": [
        {
          "output_type": "stream",
          "name": "stdout",
          "text": [
            "I\n",
            "love\n",
            "bangladesh\n",
            "so\n",
            "much\n"
          ]
        }
      ]
    },
    {
      "cell_type": "code",
      "source": [
        "n =[2,3,4,7,8,44,99,100]\n",
        "total=0\n",
        "for x in n:\n",
        "  total = total+x\n",
        "  print(total,x)"
      ],
      "metadata": {
        "colab": {
          "base_uri": "https://localhost:8080/"
        },
        "id": "pkxjBRZVlwoS",
        "outputId": "32014d2a-9d95-4d27-d4c5-8c0436849bcc"
      },
      "execution_count": null,
      "outputs": [
        {
          "output_type": "stream",
          "name": "stdout",
          "text": [
            "2 2\n",
            "5 3\n",
            "9 4\n",
            "16 7\n",
            "24 8\n",
            "68 44\n",
            "167 99\n",
            "267 100\n"
          ]
        }
      ]
    },
    {
      "cell_type": "code",
      "source": [
        "for i in range(10):   \n",
        "   print('I love bangladesh',i)"
      ],
      "metadata": {
        "colab": {
          "base_uri": "https://localhost:8080/"
        },
        "id": "Ka-I27xJoOqd",
        "outputId": "1b7daef0-a627-4397-a2f4-ab153f05267e"
      },
      "execution_count": null,
      "outputs": [
        {
          "output_type": "stream",
          "name": "stdout",
          "text": [
            "I love bangladesh\n",
            "I love bangladesh\n",
            "I love bangladesh\n",
            "I love bangladesh\n",
            "I love bangladesh\n",
            "I love bangladesh\n",
            "I love bangladesh\n",
            "I love bangladesh\n",
            "I love bangladesh\n",
            "I love bangladesh\n"
          ]
        }
      ]
    },
    {
      "cell_type": "code",
      "source": [
        "for i in range(5,10,2):  #start , end , increment and decrement i=i+2\n",
        "  print('i love BD',i)"
      ],
      "metadata": {
        "colab": {
          "base_uri": "https://localhost:8080/"
        },
        "id": "re9p6DgHpLvj",
        "outputId": "d4591acc-0d2e-4ee2-cf1b-6394f3cc8a7e"
      },
      "execution_count": 44,
      "outputs": [
        {
          "output_type": "stream",
          "name": "stdout",
          "text": [
            "i love BD 5\n",
            "i love BD 7\n",
            "i love BD 9\n"
          ]
        }
      ]
    },
    {
      "cell_type": "code",
      "source": [
        "for i in range(20,0,-1):\n",
        "  print('value',i)"
      ],
      "metadata": {
        "colab": {
          "base_uri": "https://localhost:8080/"
        },
        "id": "AR3SpQ59r4mE",
        "outputId": "e64f6e8b-2518-4eec-f7cc-1771d333d0e7"
      },
      "execution_count": 48,
      "outputs": [
        {
          "output_type": "stream",
          "name": "stdout",
          "text": [
            "value 20\n",
            "value 19\n",
            "value 18\n",
            "value 17\n",
            "value 16\n",
            "value 15\n",
            "value 14\n",
            "value 13\n",
            "value 12\n",
            "value 11\n",
            "value 10\n",
            "value 9\n",
            "value 8\n",
            "value 7\n",
            "value 6\n",
            "value 5\n",
            "value 4\n",
            "value 3\n",
            "value 2\n",
            "value 1\n"
          ]
        }
      ]
    },
    {
      "cell_type": "markdown",
      "source": [
        "#Few exercise \n",
        "\n",
        "#Exercise-1: Display numbers from -100 to -10 using for loop \n"
      ],
      "metadata": {
        "id": "ICFknuH8vCEf"
      }
    },
    {
      "cell_type": "code",
      "source": [
        "for i in range(100,0,-10):\n",
        "  print(i)"
      ],
      "metadata": {
        "colab": {
          "base_uri": "https://localhost:8080/"
        },
        "id": "vnlN8jJ2riiS",
        "outputId": "d9fc0e0d-9c40-4b35-cb39-9685288ad1b8"
      },
      "execution_count": 53,
      "outputs": [
        {
          "output_type": "stream",
          "name": "stdout",
          "text": [
            "100\n",
            "90\n",
            "80\n",
            "70\n",
            "60\n",
            "50\n",
            "40\n",
            "30\n",
            "20\n",
            "10\n"
          ]
        }
      ]
    },
    {
      "cell_type": "markdown",
      "source": [
        "#Exercose-2: Find the factorial of a n!.(hint n=7:)"
      ],
      "metadata": {
        "id": "GRYalJ10wuki"
      }
    },
    {
      "cell_type": "code",
      "source": [
        "fact = 1\n",
        "num=int(input('Enter the number: '))\n",
        "for x in range(1,num+1):\n",
        "  fact=fact*x\n",
        "print(num,'factorial= ',fact)"
      ],
      "metadata": {
        "colab": {
          "base_uri": "https://localhost:8080/"
        },
        "id": "73BbfCsbxD-i",
        "outputId": "e0163170-76ff-4fd1-f8ee-7fa070e74cc6"
      },
      "execution_count": 70,
      "outputs": [
        {
          "output_type": "stream",
          "name": "stdout",
          "text": [
            "Enter the number: 10\n",
            "10 factorial=  3628800\n"
          ]
        }
      ]
    }
  ]
}