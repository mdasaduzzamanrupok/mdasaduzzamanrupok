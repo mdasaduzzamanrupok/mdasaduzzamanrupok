{
  "nbformat": 4,
  "nbformat_minor": 0,
  "metadata": {
    "colab": {
      "provenance": [],
      "authorship_tag": "ABX9TyML7Fc+/FAz2ptHutIi9yZL",
      "include_colab_link": true
    },
    "kernelspec": {
      "name": "python3",
      "display_name": "Python 3"
    },
    "language_info": {
      "name": "python"
    }
  },
  "cells": [
    {
      "cell_type": "markdown",
      "metadata": {
        "id": "view-in-github",
        "colab_type": "text"
      },
      "source": [
        "<a href=\"https://colab.research.google.com/github/mdasaduzzamanrupok/mdasaduzzamanrupok/blob/main/Nested_Loop.ipynb\" target=\"_parent\"><img src=\"https://colab.research.google.com/assets/colab-badge.svg\" alt=\"Open In Colab\"/></a>"
      ]
    },
    {
      "cell_type": "markdown",
      "source": [
        "#Nested Loop"
      ],
      "metadata": {
        "id": "nqT64_DiNubA"
      }
    },
    {
      "cell_type": "code",
      "execution_count": 2,
      "metadata": {
        "colab": {
          "base_uri": "https://localhost:8080/"
        },
        "id": "0OtPTaYqEtQN",
        "outputId": "321aaba4-1122-4e1b-cf38-274a99b2cbc6"
      },
      "outputs": [
        {
          "output_type": "stream",
          "name": "stdout",
          "text": [
            "# \n",
            "# # \n",
            "# # # \n",
            "# # # # \n"
          ]
        }
      ],
      "source": [
        "rows = 4\n",
        "#outer loop\n",
        "for x in range(1,rows+1):\n",
        "  #inner loop\n",
        "  for y in range(1,x+1):\n",
        "    print(\"#\", end=' ')\n",
        "  print('')"
      ]
    },
    {
      "cell_type": "code",
      "source": [
        "num = [1,2,3,4,5,6,7]\n",
        "#outer\n",
        "for element in num:\n",
        "  #inner\n",
        "  index=0\n",
        "  while index<len(num):\n",
        "    print(num[index],end=' ')\n",
        "    index=index+1\n",
        "  print('\\n')"
      ],
      "metadata": {
        "colab": {
          "base_uri": "https://localhost:8080/"
        },
        "id": "hLb9Q7DpRdV5",
        "outputId": "9a235b40-78e3-4f47-a28f-40221660f237"
      },
      "execution_count": 5,
      "outputs": [
        {
          "output_type": "stream",
          "name": "stdout",
          "text": [
            "1 2 3 4 5 6 7 \n",
            "\n",
            "1 2 3 4 5 6 7 \n",
            "\n",
            "1 2 3 4 5 6 7 \n",
            "\n",
            "1 2 3 4 5 6 7 \n",
            "\n",
            "1 2 3 4 5 6 7 \n",
            "\n",
            "1 2 3 4 5 6 7 \n",
            "\n",
            "1 2 3 4 5 6 7 \n",
            "\n"
          ]
        }
      ]
    },
    {
      "cell_type": "code",
      "source": [
        "rows=5\n",
        "#outer\n",
        "for x in range(1,rows+1):\n",
        "  #inner\n",
        "  for y in range(1,x+1):\n",
        "    print('*',end=' ')\n",
        "  print('')"
      ],
      "metadata": {
        "colab": {
          "base_uri": "https://localhost:8080/"
        },
        "id": "Hmw0OwINSp_V",
        "outputId": "3cd55bd5-b66d-49dd-ff99-e7763d703c84"
      },
      "execution_count": 10,
      "outputs": [
        {
          "output_type": "stream",
          "name": "stdout",
          "text": [
            "* \n",
            "* * \n",
            "* * * \n",
            "* * * * \n",
            "* * * * * \n"
          ]
        }
      ]
    }
  ]
}